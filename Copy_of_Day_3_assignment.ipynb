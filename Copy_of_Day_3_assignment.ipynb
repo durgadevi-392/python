{
  "nbformat": 4,
  "nbformat_minor": 0,
  "metadata": {
    "colab": {
      "name": "Copy of Day 3 assignment",
      "provenance": [],
      "collapsed_sections": [],
      "authorship_tag": "ABX9TyO/1Ffxb8cF0rBpUNAi3Yyd",
      "include_colab_link": true
    },
    "kernelspec": {
      "name": "python3",
      "display_name": "Python 3"
    }
  },
  "cells": [
    {
      "cell_type": "markdown",
      "metadata": {
        "id": "view-in-github",
        "colab_type": "text"
      },
      "source": [
        "<a href=\"https://colab.research.google.com/github/durgadevi-392/python/blob/master/Copy_of_Day_3_assignment.ipynb\" target=\"_parent\"><img src=\"https://colab.research.google.com/assets/colab-badge.svg\" alt=\"Open In Colab\"/></a>"
      ]
    },
    {
      "cell_type": "code",
      "metadata": {
        "id": "KYPAKFre4buH",
        "colab_type": "code",
        "colab": {
          "base_uri": "https://localhost:8080/",
          "height": 51
        },
        "outputId": "c3a0d6ba-e25b-4fe7-e2de-158d57b4257d"
      },
      "source": [
        " a=int(input(\"Enter number: \"))\n",
        "k=0\n",
        "for i in range(2,a//2+1):\n",
        "    if(a%i==0):\n",
        "        k=k+1\n",
        "if(k<=0):\n",
        "    print(\"Number is prime\")\n",
        "else:\n",
        "    print(\"Number isn't prime\")"
      ],
      "execution_count": null,
      "outputs": [
        {
          "output_type": "stream",
          "text": [
            "Enter number: 31\n",
            "Number is prime\n"
          ],
          "name": "stdout"
        }
      ]
    },
    {
      "cell_type": "code",
      "metadata": {
        "id": "l0zDKBMk5Qjg",
        "colab_type": "code",
        "colab": {
          "base_uri": "https://localhost:8080/",
          "height": 51
        },
        "outputId": "d821de2b-3e64-4c09-e911-4a15ad79360e"
      },
      "source": [
        " n=int(input(\"Enter number:\"))\n",
        "sum=0\n",
        "while n>0:\n",
        "    sum = sum+n\n",
        "    n=n-1\n",
        "print (\"sum of n numbers \", sum)"
      ],
      "execution_count": null,
      "outputs": [
        {
          "output_type": "stream",
          "text": [
            "Enter number:20\n",
            "sum of n numbers  210\n"
          ],
          "name": "stdout"
        }
      ]
    }
  ]
}